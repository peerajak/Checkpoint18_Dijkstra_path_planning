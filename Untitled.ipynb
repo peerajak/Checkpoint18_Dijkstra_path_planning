{
 "cells": [
  {
   "cell_type": "code",
   "execution_count": 23,
   "id": "f1036e23-0076-4564-9970-a336c30296ca",
   "metadata": {},
   "outputs": [],
   "source": [
    "import heapq"
   ]
  },
  {
   "cell_type": "code",
   "execution_count": 53,
   "id": "566503ee-cc3a-4fa6-b2aa-276b393bad8c",
   "metadata": {},
   "outputs": [],
   "source": [
    "class Graph:\n",
    "   def __init__(self, graph: dict = {}):\n",
    "       self.graph = graph\n",
    "\n",
    "   def shortest_distances(self, source: str):\n",
    "       # Initialize the values of all nodes with infinity\n",
    "       distances = {node: float(\"inf\") for node in self.graph}\n",
    "       distances[source] = 0  # Set the source value to 0\n",
    "\n",
    "       # Initialize a priority queue\n",
    "       pq = [(0, source)]\n",
    "       heapq.heapify(pq)\n",
    "\n",
    "       # Create a set to hold visited nodes\n",
    "       visited = set()\n",
    "\n",
    "       while pq:  # While the priority queue isn't empty\n",
    "           current_distance, current_node = heapq.heappop(\n",
    "               pq\n",
    "           )  # Get the node with the min distance\n",
    "\n",
    "           if current_node in visited:\n",
    "               continue  # Skip already visited nodes\n",
    "           visited.add(current_node)  # Else, add the node to visited set\n",
    "        \n",
    "           for neighbor, weight in self.graph[current_node].items():\n",
    "               # Calculate the distance from current_node to the neighbor\n",
    "               tentative_distance = current_distance + weight\n",
    "               if tentative_distance < distances[neighbor]:\n",
    "                   distances[neighbor] = tentative_distance\n",
    "                   heapq.heappush(pq, (tentative_distance, neighbor))\n",
    "       predecessors = {node: None for node in self.graph}\n",
    "\n",
    "       for node, distance in distances.items():\n",
    "           for neighbor, weight in self.graph[node].items():\n",
    "              if distances[neighbor] == distance + weight:\n",
    "                 predecessors[neighbor] = node\n",
    "       return distances, predecessors\n",
    "\n",
    "\n",
    "   def shortest_path(self, source: str, target: str):\n",
    "       # Generate the predecessors dict\n",
    "       _, predecessors = self.shortest_distances(source)\n",
    "\n",
    "       path = []\n",
    "       current_node = target\n",
    "\n",
    "       # Backtrack from the target node using predecessors\n",
    "       while current_node:\n",
    "           path.append(current_node)\n",
    "           current_node = predecessors[current_node]\n",
    "\n",
    "       # Reverse the path and return it\n",
    "       path.reverse()\n",
    "\n",
    "       return path\n",
    "\n"
   ]
  },
  {
   "cell_type": "code",
   "execution_count": 54,
   "id": "9672e888-5191-43ef-ae60-b3bbd83afcc6",
   "metadata": {},
   "outputs": [],
   "source": [
    "graph_dict = {'A': {'B': 3, 'C': 3},\n",
    "'B': {'A': 3, 'D': 3.5, 'E': 2.8},\n",
    "'C': {'A': 3, 'E': 2.8, 'F': 3.5},\n",
    "'D': {'B': 3.5, 'E': 3.1, 'G': 10},\n",
    "'E': {'B': 2.8, 'C': 2.8, 'D': 3.1, 'G': 7},\n",
    "'F': {'G': 2.5, 'C': 3.5},\n",
    "'G': {'F': 2.5, 'E': 7, 'D': 10}}\n"
   ]
  },
  {
   "cell_type": "code",
   "execution_count": 55,
   "id": "c6d8b1b9-1bab-40c9-9fd5-d7199f858911",
   "metadata": {},
   "outputs": [
    {
     "data": {
      "text/plain": [
       "{'A': {'B': 3, 'C': 3},\n",
       " 'B': {'A': 3, 'D': 3.5, 'E': 2.8},\n",
       " 'C': {'A': 3, 'E': 2.8, 'F': 3.5},\n",
       " 'D': {'B': 3.5, 'E': 3.1, 'G': 10},\n",
       " 'E': {'B': 2.8, 'C': 2.8, 'D': 3.1, 'G': 7},\n",
       " 'F': {'G': 2.5, 'C': 3.5},\n",
       " 'G': {'F': 2.5, 'E': 7, 'D': 10}}"
      ]
     },
     "execution_count": 55,
     "metadata": {},
     "output_type": "execute_result"
    }
   ],
   "source": [
    "# Use the dictionary we defined earlier\n",
    "# Use the dictionary we defined earlier\n",
    "G = Graph(graph=graph_dict)\n",
    "\n",
    "G.graph\n"
   ]
  },
  {
   "cell_type": "code",
   "execution_count": 59,
   "id": "961b5ecb-3a87-4f88-bc5b-16170630fe43",
   "metadata": {},
   "outputs": [
    {
     "name": "stdout",
     "output_type": "stream",
     "text": [
      "{'A': 3, 'B': 0, 'C': 5.6, 'D': 3.5, 'E': 2.8, 'F': 9.1, 'G': 9.8} \n",
      "\n",
      "The shortest distance from B to F is 9.1\n"
     ]
    }
   ],
   "source": [
    "G = Graph(graph_dict)\n",
    "\n",
    "distances,_ = G.shortest_distances(\"B\")\n",
    "print(distances, \"\\n\")\n",
    "\n",
    "to_F = distances[\"F\"]\n",
    "print(f\"The shortest distance from B to F is {to_F}\")\n",
    "\n"
   ]
  },
  {
   "cell_type": "code",
   "execution_count": 57,
   "id": "d803de49-f5d3-44c6-81d1-6105a8305d92",
   "metadata": {},
   "outputs": [
    {
     "data": {
      "text/plain": [
       "['B', 'E', 'C', 'F']"
      ]
     },
     "execution_count": 57,
     "metadata": {},
     "output_type": "execute_result"
    }
   ],
   "source": [
    "G.shortest_path(\"B\", \"F\")"
   ]
  },
  {
   "cell_type": "code",
   "execution_count": null,
   "id": "38e7065a-4495-4afb-913a-0c682f3fca18",
   "metadata": {},
   "outputs": [],
   "source": []
  }
 ],
 "metadata": {
  "kernelspec": {
   "display_name": "Python 3 (ipykernel)",
   "language": "python",
   "name": "python3"
  },
  "language_info": {
   "codemirror_mode": {
    "name": "ipython",
    "version": 3
   },
   "file_extension": ".py",
   "mimetype": "text/x-python",
   "name": "python",
   "nbconvert_exporter": "python",
   "pygments_lexer": "ipython3",
   "version": "3.8.10"
  }
 },
 "nbformat": 4,
 "nbformat_minor": 5
}
